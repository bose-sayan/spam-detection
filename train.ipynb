{
 "cells": [
  {
   "cell_type": "code",
   "execution_count": 1,
   "id": "initial_id",
   "metadata": {
    "collapsed": true,
    "ExecuteTime": {
     "end_time": "2024-02-06T06:06:04.297122200Z",
     "start_time": "2024-02-06T06:06:03.042932100Z"
    }
   },
   "outputs": [],
   "source": [
    "import pandas as pd\n",
    "from sklearn.metrics import accuracy_score, classification_report\n",
    "from sklearn.ensemble import RandomForestClassifier \n",
    "from sklearn.svm import SVC\n",
    "from sklearn.naive_bayes import MultinomialNB"
   ]
  },
  {
   "cell_type": "code",
   "outputs": [],
   "source": [
    "# Function to fit a model on train data\n",
    "def fit_model(train_data, model):\n",
    "    x_train = train_data.drop('spam', axis=1)\n",
    "    y_train = train_data['spam']\n",
    "\n",
    "    model.fit(x_train, y_train)\n",
    "    return model"
   ],
   "metadata": {
    "collapsed": false,
    "ExecuteTime": {
     "end_time": "2024-02-06T06:06:06.848610200Z",
     "start_time": "2024-02-06T06:06:06.843439500Z"
    }
   },
   "id": "43c1cf76e23f619e",
   "execution_count": 2
  },
  {
   "cell_type": "code",
   "outputs": [],
   "source": [
    "# Function to score a model on given data\n",
    "def score_model(data, model):\n",
    "    x = data.drop('spam', axis=1)\n",
    "    y = data['spam']\n",
    "    \n",
    "    predictions = model.predict(x)\n",
    "    accuracy = accuracy_score(y, predictions)\n",
    "    \n",
    "    return accuracy"
   ],
   "metadata": {
    "collapsed": false,
    "ExecuteTime": {
     "end_time": "2024-02-06T06:06:07.918012800Z",
     "start_time": "2024-02-06T06:06:07.913327100Z"
    }
   },
   "id": "926adc25b0d299b7",
   "execution_count": 3
  },
  {
   "cell_type": "code",
   "outputs": [],
   "source": [
    "# Function to evaluate the model predictions\n",
    "def evaluate_model(data, model):\n",
    "    x = data.drop('spam', axis=1)\n",
    "    y = data['spam']\n",
    "    \n",
    "    predictions = model.predict(x)\n",
    "    report = classification_report(y, predictions)\n",
    "    return report"
   ],
   "metadata": {
    "collapsed": false,
    "ExecuteTime": {
     "end_time": "2024-02-06T06:06:09.668666100Z",
     "start_time": "2024-02-06T06:06:09.663570100Z"
    }
   },
   "id": "8d96eabba9f17c6f",
   "execution_count": 4
  },
  {
   "cell_type": "code",
   "outputs": [],
   "source": [
    "# Function to validate the model\n",
    "def validate_model(validation_data, model):\n",
    "    return evaluate_model(validation_data, model)"
   ],
   "metadata": {
    "collapsed": false,
    "ExecuteTime": {
     "end_time": "2024-02-06T06:06:13.847152800Z",
     "start_time": "2024-02-06T06:06:13.840712400Z"
    }
   },
   "id": "b450af2cd20a7262",
   "execution_count": 5
  },
  {
   "cell_type": "code",
   "outputs": [],
   "source": [
    "# Load the data\n",
    "train_set = pd.read_csv('data/train.csv')\n",
    "validation_set = pd.read_csv('data/validation.csv')\n",
    "test_set = pd.read_csv('data/test.csv')"
   ],
   "metadata": {
    "collapsed": false,
    "ExecuteTime": {
     "end_time": "2024-02-06T06:07:15.281018100Z",
     "start_time": "2024-02-06T06:06:14.560544800Z"
    }
   },
   "id": "3825d621ee23c1db",
   "execution_count": 6
  },
  {
   "cell_type": "markdown",
   "source": [
    "# Fitting and scoring the models"
   ],
   "metadata": {
    "collapsed": false
   },
   "id": "debae3d8f491cb6"
  },
  {
   "cell_type": "markdown",
   "source": [
    "## Support Vector Machine (SVM) model"
   ],
   "metadata": {
    "collapsed": false
   },
   "id": "e737fdded93a5871"
  },
  {
   "cell_type": "code",
   "outputs": [],
   "source": [
    "# Fitting the SVC model on train data\n",
    "svc_model = fit_model(train_set, SVC())"
   ],
   "metadata": {
    "collapsed": false,
    "ExecuteTime": {
     "end_time": "2024-02-06T06:24:20.593079500Z",
     "start_time": "2024-02-06T06:14:09.385448200Z"
    }
   },
   "id": "44664130e4dbe847",
   "execution_count": 17
  },
  {
   "cell_type": "code",
   "outputs": [
    {
     "name": "stdout",
     "output_type": "stream",
     "text": [
      "SVM accuracy on train data: 0.9921431689218682\n",
      "              precision    recall  f1-score   support\n",
      "\n",
      "           0       0.99      1.00      0.99      3504\n",
      "           1       0.99      0.97      0.98      1078\n",
      "\n",
      "    accuracy                           0.99      4582\n",
      "   macro avg       0.99      0.99      0.99      4582\n",
      "weighted avg       0.99      0.99      0.99      4582\n"
     ]
    }
   ],
   "source": [
    "# Scoring the SVC model on train data\n",
    "svc_accuracy = score_model(train_set, svc_model)\n",
    "print(f\"SVM accuracy on train data: {svc_accuracy}\")\n",
    "# Evaluate the model predictions\n",
    "print(evaluate_model(train_set, svc_model))"
   ],
   "metadata": {
    "collapsed": false,
    "ExecuteTime": {
     "end_time": "2024-02-06T06:51:54.886377400Z",
     "start_time": "2024-02-06T06:24:46.506233800Z"
    }
   },
   "id": "9d0612e51dba627c",
   "execution_count": 18
  },
  {
   "cell_type": "code",
   "outputs": [
    {
     "name": "stdout",
     "output_type": "stream",
     "text": [
      "SVM accuracy on test data: 0.9738219895287958\n",
      "              precision    recall  f1-score   support\n",
      "\n",
      "           0       0.97      1.00      0.98       425\n",
      "           1       0.99      0.91      0.95       148\n",
      "\n",
      "    accuracy                           0.97       573\n",
      "   macro avg       0.98      0.95      0.96       573\n",
      "weighted avg       0.97      0.97      0.97       573\n"
     ]
    }
   ],
   "source": [
    "# Scoring the SVC model on test data\n",
    "svc_accuracy = score_model(test_set, svc_model)\n",
    "print(f\"SVM accuracy on test data: {svc_accuracy}\")\n",
    "# Evaluate the model predictions\n",
    "print(evaluate_model(test_set, svc_model))"
   ],
   "metadata": {
    "collapsed": false,
    "ExecuteTime": {
     "end_time": "2024-02-06T06:56:43.120433400Z",
     "start_time": "2024-02-06T06:53:27.352807400Z"
    }
   },
   "id": "ce91e8fc52f3b98f",
   "execution_count": 19
  },
  {
   "cell_type": "code",
   "outputs": [
    {
     "name": "stdout",
     "output_type": "stream",
     "text": [
      "SVM accuracy on validation data: 0.9720767888307156\n",
      "              precision    recall  f1-score   support\n",
      "\n",
      "           0       0.97      1.00      0.98       431\n",
      "           1       0.99      0.89      0.94       142\n",
      "\n",
      "    accuracy                           0.97       573\n",
      "   macro avg       0.98      0.95      0.96       573\n",
      "weighted avg       0.97      0.97      0.97       573\n"
     ]
    }
   ],
   "source": [
    "# Scoring the SVC model on validation data\n",
    "svc_accuracy = score_model(validation_set, svc_model)\n",
    "print(f\"SVM accuracy on validation data: {svc_accuracy}\")\n",
    "# Evaluate the model predictions\n",
    "print(evaluate_model(validation_set, svc_model))"
   ],
   "metadata": {
    "collapsed": false,
    "ExecuteTime": {
     "end_time": "2024-02-06T07:00:02.225703900Z",
     "start_time": "2024-02-06T06:56:43.121716900Z"
    }
   },
   "id": "dfe360b1d900effd",
   "execution_count": 20
  },
  {
   "cell_type": "markdown",
   "source": [
    "## Naive Bayes model"
   ],
   "metadata": {
    "collapsed": false
   },
   "id": "a4f8735f1cf53569"
  },
  {
   "cell_type": "code",
   "outputs": [],
   "source": [
    "# Fitting the Naive Bayes model on train data\n",
    "naive_bayes_model = fit_model(train_set, MultinomialNB())  # Fitting the Naive Bayes model on train data"
   ],
   "metadata": {
    "collapsed": false,
    "ExecuteTime": {
     "end_time": "2024-02-06T07:00:02.864158800Z",
     "start_time": "2024-02-06T07:00:02.218653900Z"
    }
   },
   "id": "1c26a6e1b295276",
   "execution_count": 21
  },
  {
   "cell_type": "code",
   "outputs": [
    {
     "name": "stdout",
     "output_type": "stream",
     "text": [
      "Naive Bayes accuracy on train data: 0.9965080750763858\n",
      "              precision    recall  f1-score   support\n",
      "\n",
      "           0       1.00      1.00      1.00      3504\n",
      "           1       0.99      1.00      0.99      1078\n",
      "\n",
      "    accuracy                           1.00      4582\n",
      "   macro avg       0.99      1.00      1.00      4582\n",
      "weighted avg       1.00      1.00      1.00      4582\n"
     ]
    }
   ],
   "source": [
    "# Scoring the Naive Bayes model on train data\n",
    "naive_bayes_accuracy = score_model(train_set, naive_bayes_model)\n",
    "print(f\"Naive Bayes accuracy on train data: {naive_bayes_accuracy}\")\n",
    "# Evaluate the model predictions\n",
    "print(evaluate_model(train_set, naive_bayes_model))"
   ],
   "metadata": {
    "collapsed": false,
    "ExecuteTime": {
     "end_time": "2024-02-06T07:00:05.433561400Z",
     "start_time": "2024-02-06T07:00:02.866259Z"
    }
   },
   "id": "e6e5d93d6059e270",
   "execution_count": 22
  },
  {
   "cell_type": "code",
   "outputs": [
    {
     "name": "stdout",
     "output_type": "stream",
     "text": [
      "Naive Bayes accuracy on test data: 0.9895287958115183\n",
      "              precision    recall  f1-score   support\n",
      "\n",
      "           0       1.00      0.99      0.99       425\n",
      "           1       0.97      0.99      0.98       148\n",
      "\n",
      "    accuracy                           0.99       573\n",
      "   macro avg       0.98      0.99      0.99       573\n",
      "weighted avg       0.99      0.99      0.99       573\n"
     ]
    }
   ],
   "source": [
    "# Scoring the Naive Bayes model on test data\n",
    "naive_bayes_accuracy = score_model(test_set, naive_bayes_model)\n",
    "print(f\"Naive Bayes accuracy on test data: {naive_bayes_accuracy}\")\n",
    "# Evaluate the model predictions\n",
    "print(evaluate_model(test_set, naive_bayes_model)) "
   ],
   "metadata": {
    "collapsed": false,
    "ExecuteTime": {
     "end_time": "2024-02-06T07:00:05.919145700Z",
     "start_time": "2024-02-06T07:00:05.449911500Z"
    }
   },
   "id": "9db1516dd01c5e65",
   "execution_count": 23
  },
  {
   "cell_type": "code",
   "outputs": [
    {
     "name": "stdout",
     "output_type": "stream",
     "text": [
      "Naive Bayes accuracy on validation data: 0.9930191972076788\n",
      "              precision    recall  f1-score   support\n",
      "\n",
      "           0       1.00      0.99      1.00       431\n",
      "           1       0.97      1.00      0.99       142\n",
      "\n",
      "    accuracy                           0.99       573\n",
      "   macro avg       0.99      1.00      0.99       573\n",
      "weighted avg       0.99      0.99      0.99       573\n"
     ]
    }
   ],
   "source": [
    "# Scoring the Naive Bayes model on validation data\n",
    "naive_bayes_accuracy = score_model(validation_set, naive_bayes_model)\n",
    "print(f\"Naive Bayes accuracy on validation data: {naive_bayes_accuracy}\")\n",
    "# Evaluate the model predictions\n",
    "print(evaluate_model(validation_set, naive_bayes_model))"
   ],
   "metadata": {
    "collapsed": false,
    "ExecuteTime": {
     "end_time": "2024-02-06T07:00:06.378306300Z",
     "start_time": "2024-02-06T07:00:05.912539700Z"
    }
   },
   "id": "1896e3525640b8cd",
   "execution_count": 24
  },
  {
   "cell_type": "markdown",
   "source": [
    "## Random Forest model"
   ],
   "metadata": {
    "collapsed": false
   },
   "id": "81b2986cbe696bd9"
  },
  {
   "cell_type": "code",
   "outputs": [],
   "source": [
    "# Fitting the RandomForest model on train data\n",
    "random_forest_model = fit_model(train_set, RandomForestClassifier())  # Fitting the RandomForest model on train data"
   ],
   "metadata": {
    "collapsed": false,
    "ExecuteTime": {
     "end_time": "2024-02-06T07:00:14.997330200Z",
     "start_time": "2024-02-06T07:00:06.370749600Z"
    }
   },
   "id": "e62d78b150c012dd",
   "execution_count": 25
  },
  {
   "cell_type": "code",
   "outputs": [
    {
     "name": "stdout",
     "output_type": "stream",
     "text": [
      "Random Forest accuracy on train data: 1.0\n",
      "              precision    recall  f1-score   support\n",
      "\n",
      "           0       1.00      1.00      1.00      3504\n",
      "           1       1.00      1.00      1.00      1078\n",
      "\n",
      "    accuracy                           1.00      4582\n",
      "   macro avg       1.00      1.00      1.00      4582\n",
      "weighted avg       1.00      1.00      1.00      4582\n"
     ]
    }
   ],
   "source": [
    "# Scoring the RandomForest model on train data\n",
    "random_forest_accuracy = score_model(train_set, random_forest_model)\n",
    "print(f\"Random Forest accuracy on train data: {random_forest_accuracy}\")\n",
    "# Evaluate the model predictions\n",
    "print(evaluate_model(train_set, random_forest_model))"
   ],
   "metadata": {
    "collapsed": false,
    "ExecuteTime": {
     "end_time": "2024-02-06T07:00:16.642591600Z",
     "start_time": "2024-02-06T07:00:14.998934500Z"
    }
   },
   "id": "fe1d128077c38f1f",
   "execution_count": 26
  },
  {
   "cell_type": "code",
   "outputs": [
    {
     "name": "stdout",
     "output_type": "stream",
     "text": [
      "Random Forest accuracy on test data: 0.9738219895287958\n",
      "              precision    recall  f1-score   support\n",
      "\n",
      "           0       0.97      1.00      0.98       425\n",
      "           1       1.00      0.90      0.95       148\n",
      "\n",
      "    accuracy                           0.97       573\n",
      "   macro avg       0.98      0.95      0.96       573\n",
      "weighted avg       0.97      0.97      0.97       573\n"
     ]
    }
   ],
   "source": [
    "# Scoring the RandomForest model on test data\n",
    "random_forest_accuracy = score_model(test_set, random_forest_model)\n",
    "print(f\"Random Forest accuracy on test data: {random_forest_accuracy}\")\n",
    "# Evaluate the model predictions\n",
    "print(evaluate_model(test_set, random_forest_model))"
   ],
   "metadata": {
    "collapsed": false,
    "ExecuteTime": {
     "end_time": "2024-02-06T07:00:17.041647700Z",
     "start_time": "2024-02-06T07:00:16.635003800Z"
    }
   },
   "id": "1b2c31132cc900e8",
   "execution_count": 27
  },
  {
   "cell_type": "code",
   "outputs": [
    {
     "name": "stdout",
     "output_type": "stream",
     "text": [
      "Random Forest accuracy on validation data: 0.9755671902268761\n",
      "              precision    recall  f1-score   support\n",
      "\n",
      "           0       0.97      1.00      0.98       431\n",
      "           1       1.00      0.90      0.95       142\n",
      "\n",
      "    accuracy                           0.98       573\n",
      "   macro avg       0.98      0.95      0.97       573\n",
      "weighted avg       0.98      0.98      0.98       573\n"
     ]
    }
   ],
   "source": [
    "# Scoring the RandomForest model on validation data\n",
    "random_forest_accuracy = score_model(validation_set, random_forest_model)\n",
    "print(f\"Random Forest accuracy on validation data: {random_forest_accuracy}\")\n",
    "# Evaluate the model predictions\n",
    "print(evaluate_model(validation_set, random_forest_model))"
   ],
   "metadata": {
    "collapsed": false,
    "ExecuteTime": {
     "end_time": "2024-02-06T07:00:17.425827Z",
     "start_time": "2024-02-06T07:00:17.036589800Z"
    }
   },
   "id": "24c9960107214b9f",
   "execution_count": 28
  }
 ],
 "metadata": {
  "kernelspec": {
   "display_name": "Python 3",
   "language": "python",
   "name": "python3"
  },
  "language_info": {
   "codemirror_mode": {
    "name": "ipython",
    "version": 2
   },
   "file_extension": ".py",
   "mimetype": "text/x-python",
   "name": "python",
   "nbconvert_exporter": "python",
   "pygments_lexer": "ipython2",
   "version": "2.7.6"
  }
 },
 "nbformat": 4,
 "nbformat_minor": 5
}
