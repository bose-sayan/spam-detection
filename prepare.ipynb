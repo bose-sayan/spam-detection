{
 "cells": [
  {
   "cell_type": "code",
   "execution_count": 1,
   "id": "initial_id",
   "metadata": {
    "collapsed": true,
    "ExecuteTime": {
     "end_time": "2024-02-06T04:59:08.199061700Z",
     "start_time": "2024-02-06T04:59:05.519882600Z"
    }
   },
   "outputs": [
    {
     "name": "stderr",
     "output_type": "stream",
     "text": [
      "[nltk_data] Downloading package stopwords to\n",
      "[nltk_data]     C:\\Users\\sayan\\AppData\\Roaming\\nltk_data...\n",
      "[nltk_data]   Package stopwords is already up-to-date!\n",
      "[nltk_data] Downloading package wordnet to\n",
      "[nltk_data]     C:\\Users\\sayan\\AppData\\Roaming\\nltk_data...\n",
      "[nltk_data]   Package wordnet is already up-to-date!\n"
     ]
    }
   ],
   "source": [
    "import pandas as pd\n",
    "import string\n",
    "from sklearn.model_selection import train_test_split\n",
    "import nltk\n",
    "nltk.download('stopwords')\n",
    "nltk.download('wordnet')\n",
    "from nltk.corpus import stopwords\n",
    "from nltk.stem import WordNetLemmatizer"
   ]
  },
  {
   "cell_type": "code",
   "outputs": [],
   "source": [
    "# Load the data\n",
    "data = pd.read_csv('data/emails.csv')\n",
    "stopwords = set(stopwords.words('english'))\n"
   ],
   "metadata": {
    "collapsed": false,
    "ExecuteTime": {
     "end_time": "2024-02-06T04:59:09.829490100Z",
     "start_time": "2024-02-06T04:59:09.746996600Z"
    }
   },
   "id": "a9e2bb343be7afd1",
   "execution_count": 2
  },
  {
   "cell_type": "code",
   "outputs": [],
   "source": [
    "# Preprocessing\n",
    "lemmatizer = WordNetLemmatizer()\n",
    "\n",
    "# Lower casing\n",
    "data['text'] = data['text'].str.lower()\n",
    "\n",
    "# Removing punctuation\n",
    "data['text'] = data['text'].apply(lambda x: ''.join([char for char in x if char not in string.punctuation]))\n",
    "\n",
    "# Tokenization\n",
    "data['text'] = data['text'].apply(lambda x: x.split())\n",
    "\n",
    "# Removing stop words\n",
    "data['text'] = data['text'].apply(lambda x: [word for word in x if word not in stopwords])\n",
    "\n",
    "# Lemmatization\n",
    "data['text'] = data['text'].apply(lambda x: [lemmatizer.lemmatize(word) for word in x])\n",
    "\n",
    "# Joining the tokens\n",
    "data['text'] = data['text'].apply(lambda x: ' '.join(x))\n",
    "\n",
    "# Removing empty strings\n",
    "data = data[data['text'] != '']\n",
    "\n",
    "# Count Vectorization\n",
    "from sklearn.feature_extraction.text import CountVectorizer\n",
    "cv = CountVectorizer()\n",
    "temp = cv.fit_transform(data.text)\n",
    "data = pd.concat([data, pd.DataFrame(temp.toarray())], axis=1)\n",
    "data = data.drop('text', axis=1)"
   ],
   "metadata": {
    "collapsed": false,
    "ExecuteTime": {
     "end_time": "2024-02-06T04:59:17.068182300Z",
     "start_time": "2024-02-06T04:59:10.860618600Z"
    }
   },
   "id": "1f05d880a4830ddd",
   "execution_count": 3
  },
  {
   "cell_type": "code",
   "outputs": [],
   "source": [
    "# Splitting the data\n",
    "# 80% for training and 20% for testing\n",
    "train_data, temp_data = train_test_split(data, test_size=0.2, random_state=42)\n",
    "# Split temp set into validation and test sets\n",
    "validation_data, test_data = train_test_split(temp_data, test_size=0.5, random_state=42)"
   ],
   "metadata": {
    "collapsed": false,
    "ExecuteTime": {
     "end_time": "2024-02-06T04:59:23.980699Z",
     "start_time": "2024-02-06T04:59:22.468305500Z"
    }
   },
   "id": "f35cd5269cac6900",
   "execution_count": 4
  },
  {
   "cell_type": "code",
   "outputs": [],
   "source": [
    "# store the splits in CSV files\n",
    "train_data.to_csv('data/train.csv', index=False)\n",
    "validation_data.to_csv('data/validation.csv', index=False)\n",
    "test_data.to_csv('data/test.csv', index=False)"
   ],
   "metadata": {
    "collapsed": false,
    "ExecuteTime": {
     "end_time": "2024-02-06T05:01:36.781188100Z",
     "start_time": "2024-02-06T04:59:24.840760500Z"
    }
   },
   "id": "7f062d1c81e4112f",
   "execution_count": 5
  }
 ],
 "metadata": {
  "kernelspec": {
   "display_name": "Python 3",
   "language": "python",
   "name": "python3"
  },
  "language_info": {
   "codemirror_mode": {
    "name": "ipython",
    "version": 2
   },
   "file_extension": ".py",
   "mimetype": "text/x-python",
   "name": "python",
   "nbconvert_exporter": "python",
   "pygments_lexer": "ipython2",
   "version": "2.7.6"
  }
 },
 "nbformat": 4,
 "nbformat_minor": 5
}
